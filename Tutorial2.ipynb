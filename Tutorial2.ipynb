{
 "cells": [
  {
   "cell_type": "code",
   "execution_count": 1,
   "metadata": {},
   "outputs": [],
   "source": [
    "import numpy as np\n",
    "# For large library, functions are collected in different submodules.\n",
    "# For this import you need to import the submodule.\n",
    "import matplotlib.pyplot as plt\n",
    "import sklearn.linear_model as skl\n",
    "#add this command to snable matplotlib plot in notebook\n",
    "%matplotlib inline"
   ]
  },
  {
   "cell_type": "code",
   "execution_count": 3,
   "metadata": {},
   "outputs": [
    {
     "name": "stdout",
     "output_type": "stream",
     "text": [
      "[-5.         -4.65517241 -4.31034483 -3.96551724 -3.62068966 -3.27586207\n",
      " -2.93103448 -2.5862069  -2.24137931 -1.89655172 -1.55172414 -1.20689655\n",
      " -0.86206897 -0.51724138 -0.17241379  0.17241379  0.51724138  0.86206897\n",
      "  1.20689655  1.55172414  1.89655172  2.24137931  2.5862069   2.93103448\n",
      "  3.27586207  3.62068966  3.96551724  4.31034483  4.65517241  5.        ]\n",
      "[-85.         -64.55471729 -47.19279183 -32.66821108 -20.73496248\n",
      " -11.1470335   -3.65841158   1.97691582   6.00496125   8.67173726\n",
      "  10.22325639  10.90553118  10.96457419  10.64639797  10.19701505\n",
      "   9.86243798   9.88867932  10.52175161  12.00766739  14.59243921\n",
      "  18.52207963  24.04260117  31.4000164   40.84033786  52.60957809\n",
      "  66.95374964  84.11886506 104.3509369  127.89597769 155.        ]\n"
     ]
    }
   ],
   "source": [
    "x = np.linspace(-5,5,30)\n",
    "y = x**3 + x**2 -x +10\n",
    "print(x)\n",
    "print(y)"
   ]
  },
  {
   "cell_type": "markdown",
   "metadata": {},
   "source": [
    "plt.scatter? give you its documentation. Also try shift+tab."
   ]
  },
  {
   "cell_type": "code",
   "execution_count": 8,
   "metadata": {},
   "outputs": [
    {
     "data": {
      "text/plain": [
       "Text(0,0.5,'y label')"
      ]
     },
     "execution_count": 8,
     "metadata": {},
     "output_type": "execute_result"
    },
    {
     "data": {
      "image/png": "[encoded data removed]",
      "text/plain": [
       "<Figure size 432x288 with 1 Axes>"
      ]
     },
     "metadata": {},
     "output_type": "display_data"
    }
   ],
   "source": [
    "plt.scatter(x, y)\n",
    "#plt.plot(x, y)\n",
    "plt.xlabel(\"x label\")\n",
    "plt.ylabel(\"y label\")"
   ]
  },
  {
   "cell_type": "markdown",
   "metadata": {},
   "source": [
    "Scikit-learn expect data to be formatted as a 2D array with shape (n_samples, n_features), so we need to expand the dimensions of our x/y."
   ]
  },
  {
   "cell_type": "code",
   "execution_count": null,
   "metadata": {},
   "outputs": [],
   "source": [
    "print(x.shape)\n",
    "print(y.shape)"
   ]
  },
  {
   "cell_type": "code",
   "execution_count": null,
   "metadata": {},
   "outputs": [],
   "source": [
    "x = np.expand_dims(x, axis=1)\n",
    "y = np.expand_dims(y, axis=1)"
   ]
  },
  {
   "cell_type": "code",
   "execution_count": null,
   "metadata": {},
   "outputs": [],
   "source": [
    "print(x.shape)\n",
    "print(y.shape)"
   ]
  },
  {
   "cell_type": "markdown",
   "metadata": {},
   "source": [
    "In this demo we can use several linear models on simulated data.\n",
    "See Sklearn documentation for details."
   ]
  },
  {
   "cell_type": "code",
   "execution_count": null,
   "metadata": {
    "scrolled": true
   },
   "outputs": [],
   "source": [
    "# Basic procedure of using a classifier\n",
    "# Fit: training on the data (features + labels).\n",
    "# Predict: predicting on the features\n",
    "model = skl.LinearRegression()\n",
    "# import sklearn.neighbors\n",
    "# model = sklearn.neighbors.KNeighborsRegressor()\n",
    "model.fit(x, y)\n",
    "predict_y = model.predict(x)\n",
    "print(predict_y)"
   ]
  },
  {
   "cell_type": "code",
   "execution_count": null,
   "metadata": {},
   "outputs": [],
   "source": [
    "plt.scatter(x,y)\n",
    "plt.plot(x,predict_y)\n",
    "plt.show()"
   ]
  }
 ],
 "metadata": {
  "kernelspec": {
   "display_name": "Python 3",
   "language": "python",
   "name": "python3"
  },
  "language_info": {
   "codemirror_mode": {
    "name": "ipython",
    "version": 3
   },
   "file_extension": ".py",
   "mimetype": "text/x-python",
   "name": "python",
   "nbconvert_exporter": "python",
   "pygments_lexer": "ipython3",
   "version": "3.6.8"
  }
 },
 "nbformat": 4,
 "nbformat_minor": 2
}
