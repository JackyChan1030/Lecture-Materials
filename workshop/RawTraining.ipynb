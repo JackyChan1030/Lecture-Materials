{
 "cells": [
  {
   "cell_type": "markdown",
   "metadata": {},
   "source": [
    "Hi everyone! In this notebook we will learn how to train a model with eager mode of Tensorflow 2. For teaching objectives, we just focus on implementing the training phase with eager mode. A more comprehensive training procedure is given in KerasTraining.ipynb."
   ]
  },
  {
   "cell_type": "code",
   "execution_count": 1,
   "metadata": {},
   "outputs": [
    {
     "name": "stdout",
     "output_type": "stream",
     "text": [
      "2.3.0\n"
     ]
    }
   ],
   "source": [
    "import tensorflow as tf\n",
    "import numpy as np\n",
    "from tensorflow import keras\n",
    "from tensorflow.keras import layers\n",
    "import matplotlib.pyplot as plt\n",
    "import time\n",
    "print(tf.__version__)"
   ]
  },
  {
   "cell_type": "code",
   "execution_count": 2,
   "metadata": {},
   "outputs": [],
   "source": [
    "class_names = ['0', '1', '2', '3', '4', '5', '6', '7', '8', '9']"
   ]
  },
  {
   "cell_type": "code",
   "execution_count": 3,
   "metadata": {},
   "outputs": [],
   "source": [
    "def show_images(dataset, class_names, predicts=None):\n",
    "    fig, axes = plt.subplots(3, 3)\n",
    "    fig.subplots_adjust(hspace=0.8, wspace=0.4)\n",
    "    for i, (image, label) in enumerate(dataset):\n",
    "        if i>= 9: \n",
    "            break\n",
    "        if image.shape[-1] == 1:\n",
    "            revised_image = np.squeeze(image)\n",
    "        else:\n",
    "            revised_image = image\n",
    "        axes.flat[i].imshow(revised_image)\n",
    "        # Name of the true class.\n",
    "        label_name = class_names[label]\n",
    "        \n",
    "        # Show true and predicted classes.\n",
    "        if predicts is None:\n",
    "            axes.flat[i].set_xlabel(\"True : {0}\".format(label_name))\n",
    "        else:\n",
    "            predict_name = class_names[predicts[i]]\n",
    "            axes.flat[i].set_xlabel(\"True: {0}\\nPred: {1}\".format(label_name, predict_name))\n",
    "        # Remove ticks from the plot.\n",
    "        axes.flat[i].set_xticks([])\n",
    "        axes.flat[i].set_yticks([])\n",
    "    while(i < 8):\n",
    "        i += 1\n",
    "        axes.flat[i].axis('off')\n",
    "    plt.show()"
   ]
  },
  {
   "cell_type": "markdown",
   "metadata": {},
   "source": [
    "Preparing Data"
   ]
  },
  {
   "cell_type": "code",
   "execution_count": 4,
   "metadata": {},
   "outputs": [
    {
     "name": "stdout",
     "output_type": "stream",
     "text": [
      "(60000, 28, 28)   (60000,)\n",
      "(10000, 28, 28)   (10000,)\n"
     ]
    },
    {
     "data": {
      "image/png": "[encoded data removed]",
      "text/plain": [
       "<Figure size 432x288 with 9 Axes>"
      ]
     },
     "metadata": {},
     "output_type": "display_data"
    }
   ],
   "source": [
    "(x_train, y_train), (x_test, y_test) = keras.datasets.mnist.load_data()\n",
    "print(x_train.shape, ' ', y_train.shape)\n",
    "print(x_test.shape, ' ', y_test.shape)\n",
    "x_train = x_train.astype('float32').reshape((-1,28,28,1))\n",
    "x_test = x_test.astype('float32').reshape((-1,28,28,1))\n",
    "x_train /= 255.0\n",
    "x_test /= 255.0\n",
    "trainDataset = tf.data.Dataset.from_tensor_slices((x_train, y_train))\n",
    "testDataset = tf.data.Dataset.from_tensor_slices((x_test, y_test))\n",
    "show_images(trainDataset, class_names)"
   ]
  },
  {
   "cell_type": "markdown",
   "metadata": {},
   "source": [
    "Preparing a simple Model."
   ]
  },
  {
   "cell_type": "code",
   "execution_count": 5,
   "metadata": {},
   "outputs": [
    {
     "name": "stdout",
     "output_type": "stream",
     "text": [
      "Model: \"sequential\"\n",
      "_________________________________________________________________\n",
      "Layer (type)                 Output Shape              Param #   \n",
      "=================================================================\n",
      "conv2d (Conv2D)              (None, 26, 26, 32)        320       \n",
      "_________________________________________________________________\n",
      "conv2d_1 (Conv2D)            (None, 24, 24, 32)        9248      \n",
      "_________________________________________________________________\n",
      "max_pooling2d (MaxPooling2D) (None, 12, 12, 32)        0         \n",
      "_________________________________________________________________\n",
      "conv2d_2 (Conv2D)            (None, 10, 10, 64)        18496     \n",
      "_________________________________________________________________\n",
      "conv2d_3 (Conv2D)            (None, 8, 8, 64)          36928     \n",
      "_________________________________________________________________\n",
      "max_pooling2d_1 (MaxPooling2 (None, 4, 4, 64)          0         \n",
      "_________________________________________________________________\n",
      "flatten (Flatten)            (None, 1024)              0         \n",
      "_________________________________________________________________\n",
      "dense (Dense)                (None, 512)               524800    \n",
      "_________________________________________________________________\n",
      "dense_1 (Dense)              (None, 10)                5130      \n",
      "=================================================================\n",
      "Total params: 594,922\n",
      "Trainable params: 594,922\n",
      "Non-trainable params: 0\n",
      "_________________________________________________________________\n"
     ]
    }
   ],
   "source": [
    "cnnModel = keras.Sequential()\n",
    "cnnModel.add(layers.Conv2D(input_shape=[28,28,1],filters = 32, kernel_size = 3, strides = 1,\n",
    "                       activation = 'relu'))\n",
    "cnnModel.add(layers.Conv2D(filters = 32, kernel_size = 3, strides = 1,\n",
    "                       activation = 'relu'))\n",
    "cnnModel.add(layers.MaxPool2D(pool_size = 2, strides = 2))\n",
    "cnnModel.add(layers.Conv2D(filters = 64, kernel_size = 3, strides = 1,\n",
    "                       activation = 'relu'))\n",
    "cnnModel.add(layers.Conv2D(filters = 64, kernel_size = 3, strides = 1,\n",
    "                       activation = 'relu'))\n",
    "cnnModel.add(layers.MaxPool2D(pool_size = 2, strides = 2))\n",
    "cnnModel.add(layers.Flatten())\n",
    "cnnModel.add(layers.Dense(units = 512, activation = 'relu'))\n",
    "cnnModel.add(layers.Dense(units = 10, activation = 'softmax'))\n",
    "cnnModel.summary()"
   ]
  },
  {
   "cell_type": "markdown",
   "metadata": {},
   "source": [
    "Necessary components in training procedure: <b>Optimizer</b>, <b>loss</b> and <b>metrics</b>."
   ]
  },
  {
   "cell_type": "code",
   "execution_count": 6,
   "metadata": {},
   "outputs": [],
   "source": [
    "optimizer = tf.keras.optimizers.RMSprop()\n",
    "\n",
    "compute_loss = tf.keras.losses.SparseCategoricalCrossentropy()\n",
    "\n",
    "compute_accuracy = tf.keras.metrics.SparseCategoricalAccuracy()"
   ]
  },
  {
   "cell_type": "markdown",
   "metadata": {},
   "source": [
    "Automatic differentiation is useful for implementing machine learning algorithms such as backpropagation for training neural networks. During eager execution, use tf.GradientTape to trace operations for computing gradients later.\n",
    "\n",
    "All forward-pass operations get recorded to a \"tape\". To compute the gradient, play the tape backwards and then discard. So a particular tf.GradientTape can only compute gradient once; subsequent calls throw a runtime error."
   ]
  },
  {
   "cell_type": "code",
   "execution_count": 7,
   "metadata": {},
   "outputs": [],
   "source": [
    "@tf.function\n",
    "def train_one_step(model, optimizer, x, y):\n",
    "    with tf.GradientTape() as tape:\n",
    "        logits = model(x, training=True)\n",
    "        loss = compute_loss(y, logits)\n",
    "\n",
    "    grads = tape.gradient(loss, model.trainable_variables)\n",
    "    optimizer.apply_gradients(zip(grads, model.trainable_variables))\n",
    "\n",
    "    compute_accuracy(y, logits)\n",
    "    return loss"
   ]
  },
  {
   "cell_type": "markdown",
   "metadata": {},
   "source": [
    "tf.function annotation will construct a graph by packing operations in the function, which may reduce the running time. However, more time is needed for initializing the graph."
   ]
  },
  {
   "cell_type": "code",
   "execution_count": 8,
   "metadata": {},
   "outputs": [],
   "source": [
    "subTrainDataset = trainDataset.shuffle(buffer_size=1024).batch(64)\n",
    "subTestDataset = testDataset.batch(64)"
   ]
  },
  {
   "cell_type": "code",
   "execution_count": 9,
   "metadata": {},
   "outputs": [],
   "source": [
    "def train(model, optimizer, trainDataset, epochs):\n",
    "    for epoch in range(epochs):\n",
    "        print(\"epoch: \", epoch)\n",
    "        start_time = time.time()\n",
    "        step = 0\n",
    "        compute_accuracy.reset_states()\n",
    "        for x,y in trainDataset:\n",
    "            step += 1\n",
    "            loss = train_one_step(model, optimizer, x, y)\n",
    "            if step % 50 == 0:\n",
    "                tf.print(\"Loss: \", loss, \"Accuracy on training data:\", compute_accuracy.result())\n",
    "        compute_accuracy.reset_states()\n",
    "        \n",
    "        for x, y in subTestDataset:\n",
    "            logits = model(x, training=False)\n",
    "            compute_accuracy(y, logits)\n",
    "        test_acc = compute_accuracy.result()\n",
    "        print(\"Accuracy on testing data: %.4f\" % (float(test_acc),))\n",
    "        print(\"Time taken: %.2fs\" % (time.time() - start_time))"
   ]
  },
  {
   "cell_type": "code",
   "execution_count": 10,
   "metadata": {},
   "outputs": [
    {
     "name": "stdout",
     "output_type": "stream",
     "text": [
      "epoch:  0\n",
      "Loss:  0.112843394 Accuracy on training data: 0.759375\n",
      "Loss:  0.259834796 Accuracy on training data: 0.85125\n",
      "Loss:  0.0774686486 Accuracy on training data: 0.883229196\n",
      "Loss:  0.030379951 Accuracy on training data: 0.903906226\n",
      "Loss:  0.138212144 Accuracy on training data: 0.91625\n",
      "Loss:  0.0586102158 Accuracy on training data: 0.925052106\n",
      "Loss:  0.154582456 Accuracy on training data: 0.93267858\n",
      "Loss:  0.14906846 Accuracy on training data: 0.938320339\n",
      "Loss:  0.0108152125 Accuracy on training data: 0.942534745\n",
      "Loss:  0.0205701329 Accuracy on training data: 0.946062505\n",
      "Loss:  0.0199248902 Accuracy on training data: 0.949289799\n",
      "Loss:  0.0153310709 Accuracy on training data: 0.952005208\n",
      "Loss:  0.00597275514 Accuracy on training data: 0.954230785\n",
      "Loss:  0.0119968634 Accuracy on training data: 0.95622766\n",
      "Loss:  0.0254145954 Accuracy on training data: 0.957708359\n",
      "Loss:  0.00717533 Accuracy on training data: 0.959609389\n",
      "Loss:  0.0196807701 Accuracy on training data: 0.960992634\n",
      "Loss:  0.0325194336 Accuracy on training data: 0.962447941\n",
      "Accuracy on testing data: 0.9875\n",
      "Time taken: 103.73s\n",
      "epoch:  1\n",
      "Loss:  0.0462972596 Accuracy on training data: 0.984062493\n",
      "Loss:  0.0883797407 Accuracy on training data: 0.985\n",
      "Loss:  0.00227944879 Accuracy on training data: 0.98625\n",
      "Loss:  0.0858414546 Accuracy on training data: 0.986953139\n",
      "Loss:  0.0137972804 Accuracy on training data: 0.987312496\n",
      "Loss:  0.0130094495 Accuracy on training data: 0.987291694\n",
      "Loss:  0.00425241701 Accuracy on training data: 0.987812519\n",
      "Loss:  0.00154550932 Accuracy on training data: 0.987773418\n",
      "Loss:  0.0334603 Accuracy on training data: 0.987951398\n",
      "Loss:  0.00454429211 Accuracy on training data: 0.987906277\n",
      "Loss:  0.0121234963 Accuracy on training data: 0.988039792\n",
      "Loss:  0.0584554933 Accuracy on training data: 0.988020837\n",
      "Loss:  0.0195711404 Accuracy on training data: 0.988004804\n",
      "Loss:  0.000430775282 Accuracy on training data: 0.98816967\n",
      "Loss:  0.00123618846 Accuracy on training data: 0.988229156\n",
      "Loss:  0.00492023304 Accuracy on training data: 0.988339841\n",
      "Loss:  0.00659155333 Accuracy on training data: 0.988382339\n",
      "Loss:  0.105240144 Accuracy on training data: 0.988368034\n",
      "Accuracy on testing data: 0.9879\n",
      "Time taken: 106.51s\n"
     ]
    }
   ],
   "source": [
    "train(cnnModel, optimizer, subTrainDataset, 2)"
   ]
  },
  {
   "cell_type": "code",
   "execution_count": 11,
   "metadata": {},
   "outputs": [],
   "source": [
    "predict_result = tf.argmax(cnnModel.predict(trainDataset.take(9).batch(9)),axis=1)"
   ]
  },
  {
   "cell_type": "code",
   "execution_count": 12,
   "metadata": {},
   "outputs": [
    {
     "data": {
      "text/plain": [
       "array([5, 0, 4, 1, 9, 2, 1, 3, 1], dtype=int64)"
      ]
     },
     "execution_count": 12,
     "metadata": {},
     "output_type": "execute_result"
    }
   ],
   "source": [
    "predict_result.numpy()"
   ]
  },
  {
   "cell_type": "code",
   "execution_count": 13,
   "metadata": {},
   "outputs": [
    {
     "data": {
      "image/png": "[encoded data removed]",
      "text/plain": [
       "<Figure size 432x288 with 9 Axes>"
      ]
     },
     "metadata": {},
     "output_type": "display_data"
    }
   ],
   "source": [
    "show_images(trainDataset, class_names, predict_result)"
   ]
  },
  {
   "cell_type": "code",
   "execution_count": null,
   "metadata": {},
   "outputs": [],
   "source": []
  }
 ],
 "metadata": {
  "kernelspec": {
   "display_name": "Python 3",
   "language": "python",
   "name": "python3"
  },
  "language_info": {
   "codemirror_mode": {
    "name": "ipython",
    "version": 3
   },
   "file_extension": ".py",
   "mimetype": "text/x-python",
   "name": "python",
   "nbconvert_exporter": "python",
   "pygments_lexer": "ipython3",
   "version": "3.7.4"
  }
 },
 "nbformat": 4,
 "nbformat_minor": 2
}
