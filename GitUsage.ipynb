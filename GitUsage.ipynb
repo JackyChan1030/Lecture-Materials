{
 "cells": [
  {
   "cell_type": "code",
   "execution_count": null,
   "metadata": {
    "scrolled": true
   },
   "outputs": [],
   "source": [
    "!git"
   ]
  },
  {
   "cell_type": "markdown",
   "metadata": {},
   "source": [
    "## Concepts\n",
    "\n",
    "Git is a distributed version control system, which means, different users can maintain the same project with different versions, which are called branches.\n",
    "\n",
    "Commit:  create a new version(snapshot) of your code.\n",
    "\n",
    "A branch in Git is simply a lightweight movable pointer to one of these commits. The default branch name in Git is master. As you start making commits, you’re given a master branch that points to the last commit you made. Every time you commit, the master branch pointer moves forward automatically. \n",
    "\n",
    "HEAD is the pointer to the current branch reference, which is in turn a pointer to the last commit made on that branch. That means HEAD will be the parent of the next commit that is created. It’s generally simplest to think of HEAD as the snapshot of your last commit on that branch.\n",
    "<img src=\"https://git-scm.com/book/en/v2/images/advance-master.png\" width=\"500\" height=\"400\" />\n",
    "For more about branching, get it at https://git-scm.com/book/en/v2/Git-Branching-Branches-in-a-Nutshell.\n",
    "\n",
    "To make a commit from your files in workinig directory, three trees structure is involved.\n",
    "\n",
    "<img src=\"https://git-scm.com/book/en/v2/images/reset-workflow.png\" width=\"400\" height=\"400\" />\n",
    "\n",
    "HEAD is the snapshot of your last commit on the current branch.\n",
    "\n",
    "INDEX(STAGE) is where you prepare your snapshots for the next commit.\n",
    "\n",
    "Working directory (also commonly referred to as the “working tree”) is where your edit your files. \n",
    "\n",
    "Think of the working directory as a sandbox, where you can try changes out before committing them to your INDEX and then to HEAD.\n",
    "\n",
    "Basic git workflow is as usual:\n",
    "* Modify files in your working directory.\n",
    "* Stage files, adding snapshots of files to your staging(index) area  for temporary saving.\n",
    "* Commit, which takes the files in the staging area and stores that snapshot permanently to your Git directory. \n",
    "\n",
    "For more about the three-tree structure, get it at https://git-scm.com/book/en/v2/Git-Tools-Reset-Demystified."
   ]
  },
  {
   "cell_type": "markdown",
   "metadata": {},
   "source": [
    "## Basic Commands\n",
    "\n",
    "We will:\n",
    "1. Initialize a directory to a git repository.\n",
    "2. Make some changes and commit.\n",
    "3. Push to your remote repository (Github)."
   ]
  },
  {
   "cell_type": "code",
   "execution_count": null,
   "metadata": {
    "scrolled": true
   },
   "outputs": [],
   "source": [
    "# You have some local files, want to initialize a directory to a git repository so you can use git to manage it.\n",
    "!git init\n",
    "# You want to get some codes made by others, create a local repository copied from remote repository (Generally Github).\n",
    "#!git clone https://github.com/MSBD-5001/Lecture-Materials\n",
    "# If using git clone, a directory named Lecture-Materials is created under the current path. You have to move this notebook inside it to make it work properly."
   ]
  },
  {
   "cell_type": "markdown",
   "metadata": {},
   "source": [
    "git status get the current state of the snapshots in three trees structure."
   ]
  },
  {
   "cell_type": "code",
   "execution_count": null,
   "metadata": {},
   "outputs": [],
   "source": [
    "!git status "
   ]
  },
  {
   "cell_type": "markdown",
   "metadata": {},
   "source": [
    "git add add files to index/stage area."
   ]
  },
  {
   "cell_type": "code",
   "execution_count": null,
   "metadata": {},
   "outputs": [],
   "source": [
    "!git add Tutorial4.ipynb"
   ]
  },
  {
   "cell_type": "markdown",
   "metadata": {},
   "source": [
    "To undo changes on a file before you have committed it:"
   ]
  },
  {
   "cell_type": "markdown",
   "metadata": {},
   "source": [
    "* git reset HEAD -- filename (unstages the file)\n",
    "* git checkout -- filename (undoes your changes)"
   ]
  },
  {
   "cell_type": "code",
   "execution_count": null,
   "metadata": {},
   "outputs": [],
   "source": [
    "!git status"
   ]
  },
  {
   "cell_type": "code",
   "execution_count": null,
   "metadata": {},
   "outputs": [],
   "source": [
    "!git commit -m \"a test version\""
   ]
  },
  {
   "cell_type": "markdown",
   "metadata": {},
   "source": [
    "To fetch the most recent updates from the remote repo into your local repo, and put them into your working directory:"
   ]
  },
  {
   "cell_type": "code",
   "execution_count": null,
   "metadata": {},
   "outputs": [],
   "source": [
    "!git remote add origin_test https://github.com/MSBD-5001/Lecture-Materials.git"
   ]
  },
  {
   "cell_type": "code",
   "execution_count": null,
   "metadata": {},
   "outputs": [],
   "source": [
    "!git pull origin_test master"
   ]
  },
  {
   "cell_type": "markdown",
   "metadata": {},
   "source": [
    "To put your changes from your local repo in the remote repo:\n",
    "\n",
    "git push origin master (cannot do it directly in Jupyter Notebook)"
   ]
  }
 ],
 "metadata": {
  "kernelspec": {
   "display_name": "Python 3",
   "language": "python",
   "name": "python3"
  },
  "language_info": {
   "codemirror_mode": {
    "name": "ipython",
    "version": 3
   },
   "file_extension": ".py",
   "mimetype": "text/x-python",
   "name": "python",
   "nbconvert_exporter": "python",
   "pygments_lexer": "ipython3",
   "version": "3.7.4"
  }
 },
 "nbformat": 4,
 "nbformat_minor": 2
}
