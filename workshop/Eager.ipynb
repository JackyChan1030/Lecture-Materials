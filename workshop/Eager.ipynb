{
 "cells": [
  {
   "cell_type": "markdown",
   "metadata": {},
   "source": [
    "Hi, in this notebook you will learn the basic of the eager mode in Tensorflow 2. TensorFlow's eager execution is an imperative programming environment that evaluates operations immediately, without building graphs: operations return concrete values instead of constructing a computational graph to run later. This makes it easy to get started with TensorFlow and debug models, and it reduces boilerplate as well.\n",
    "\n",
    "Why Tensorflor transform from graph execution to eager execution? Maybe it's the same reason why people like to code with Python and Jupyter Notebook: eager execution is much more intuitive and natural for programmers. A compasiron is made in this notebook by checking how these two modes perform the same operation.\n",
    "\n",
    "In Tensorflow 2, eager mode is the default mode. If you still want to use graph execution, the session/graph/.. are under tf.compat.v1 module now. You will see a example of how to do things in Tensorflow 1.x style in this notebook."
   ]
  },
  {
   "cell_type": "code",
   "execution_count": 1,
   "metadata": {},
   "outputs": [
    {
     "name": "stdout",
     "output_type": "stream",
     "text": [
      "2.3.0\n"
     ]
    }
   ],
   "source": [
    "import tensorflow as tf\n",
    "import numpy as np\n",
    "import matplotlib.pyplot as plt\n",
    "from tensorflow import keras\n",
    "from tensorflow.keras import layers\n",
    "print(tf.__version__)"
   ]
  },
  {
   "cell_type": "markdown",
   "metadata": {},
   "source": [
    "### The basic datatype in Tensorflow : Tensors\n",
    "\n",
    "A Tensor is a multi-dimensional array. Similar to NumPy ndarray objects, Tensor objects have a data type and a shape. Additionally, Tensors can reside in accelerator (like GPU) memory."
   ]
  },
  {
   "cell_type": "code",
   "execution_count": 2,
   "metadata": {},
   "outputs": [
    {
     "name": "stdout",
     "output_type": "stream",
     "text": [
      "tf.Tensor([1 2 3 4], shape=(4,), dtype=int32)\n",
      "tf.Tensor(\n",
      "[[1 9]\n",
      " [3 6]], shape=(2, 2), dtype=int32)\n",
      "tf.Tensor(\n",
      "[[3 3]\n",
      " [4 4]], shape=(2, 2), dtype=int32)\n"
     ]
    }
   ],
   "source": [
    "# Create a tensor\n",
    "one_dimentional_tensor = tf.constant([1,2,3,4])\n",
    "print(one_dimentional_tensor)\n",
    "a = tf.constant([[1,9],[3,6]])\n",
    "print(a)\n",
    "b = tf.constant([[3,3],[4,4]])\n",
    "print(b)"
   ]
  },
  {
   "cell_type": "code",
   "execution_count": 3,
   "metadata": {},
   "outputs": [
    {
     "data": {
      "text/plain": [
       "array([[1, 9],\n",
       "       [3, 6]])"
      ]
     },
     "execution_count": 3,
     "metadata": {},
     "output_type": "execute_result"
    }
   ],
   "source": [
    "# Get its numpy\n",
    "a.numpy()"
   ]
  },
  {
   "cell_type": "code",
   "execution_count": 4,
   "metadata": {},
   "outputs": [
    {
     "data": {
      "text/plain": [
       "[[1, 9], [3, 6]]"
      ]
     },
     "execution_count": 4,
     "metadata": {},
     "output_type": "execute_result"
    }
   ],
   "source": [
    "# Get its list\n",
    "a.numpy().tolist()"
   ]
  },
  {
   "cell_type": "markdown",
   "metadata": {},
   "source": [
    "### Operations and Control Flow"
   ]
  },
  {
   "cell_type": "markdown",
   "metadata": {},
   "source": [
    " TensorFlow offers a rich library of operations (tf.add, tf.matmul, tf.linalg.inv etc.) that consume and produce Tensors. "
   ]
  },
  {
   "cell_type": "code",
   "execution_count": 5,
   "metadata": {},
   "outputs": [
    {
     "data": {
      "text/plain": [
       "<tf.Tensor: shape=(2, 2), dtype=int32, numpy=\n",
       "array([[ 4, 12],\n",
       "       [ 7, 10]])>"
      ]
     },
     "execution_count": 5,
     "metadata": {},
     "output_type": "execute_result"
    }
   ],
   "source": [
    "tf.add(a, b)"
   ]
  },
  {
   "cell_type": "code",
   "execution_count": 6,
   "metadata": {},
   "outputs": [
    {
     "data": {
      "text/plain": [
       "<tf.Tensor: shape=(2, 2), dtype=int32, numpy=\n",
       "array([[ 4, 12],\n",
       "       [ 7, 10]])>"
      ]
     },
     "execution_count": 6,
     "metadata": {},
     "output_type": "execute_result"
    }
   ],
   "source": [
    "a + b"
   ]
  },
  {
   "cell_type": "markdown",
   "metadata": {},
   "source": [
    "These operations automatically convert native Python types. For example:"
   ]
  },
  {
   "cell_type": "code",
   "execution_count": 7,
   "metadata": {},
   "outputs": [
    {
     "name": "stdout",
     "output_type": "stream",
     "text": [
      "tf.Tensor(\n",
      "[[-2  6]\n",
      " [-1  2]], shape=(2, 2), dtype=int32)\n",
      "tf.Tensor(25, shape=(), dtype=int32)\n",
      "tf.Tensor(6, shape=(), dtype=int32)\n"
     ]
    }
   ],
   "source": [
    "print(tf.subtract(a , b))\n",
    "print(tf.square(5))\n",
    "print(tf.reduce_sum([1, 2, 3]))"
   ]
  },
  {
   "cell_type": "markdown",
   "metadata": {},
   "source": [
    "Pythonic control flow is supported. A major benefit of eager execution is that all the functionality of the host language is available while your model is executing"
   ]
  },
  {
   "cell_type": "code",
   "execution_count": 8,
   "metadata": {},
   "outputs": [
    {
     "name": "stdout",
     "output_type": "stream",
     "text": [
      "tf.Tensor([2 4], shape=(2,), dtype=int32)\n"
     ]
    }
   ],
   "source": [
    "cond_v = tf.constant(10)\n",
    "if cond_v > 8:\n",
    "    c = tf.add([1, 2], [1, 2])\n",
    "else:\n",
    "    c = tf.subtract([1, 2], [1, 2])\n",
    "print(c)"
   ]
  },
  {
   "cell_type": "markdown",
   "metadata": {},
   "source": [
    "### Graph and tf.funciton\n",
    "\n",
    "How to perform the operation above in Tensorflow 1.x? You have to define a graph, put all needed operations and variables into the graph, then create a session to require specified output from the graph, optionally with given values on some varibles in the graph. "
   ]
  },
  {
   "cell_type": "code",
   "execution_count": 9,
   "metadata": {
    "scrolled": false
   },
   "outputs": [
    {
     "name": "stdout",
     "output_type": "stream",
     "text": [
      "[2 4]\n",
      "[0 0]\n"
     ]
    }
   ],
   "source": [
    "g = tf.compat.v1.Graph()\n",
    "with g.as_default():\n",
    "    cond_v = tf.constant(9)\n",
    "    x = tf.constant([1,2])\n",
    "    y = tf.constant([1,2])\n",
    "    z = tf.add(x, y)\n",
    "    z2 = tf.subtract(x, y)\n",
    "    result = tf.cond(cond_v>8, lambda: z, lambda: z2)\n",
    "with tf.compat.v1.Session(graph=g) as sess:\n",
    "    sess.run(tf.compat.v1.global_variables_initializer())\n",
    "    print(sess.run(result))\n",
    "    print(sess.run(result, feed_dict={cond_v : 7}))"
   ]
  },
  {
   "cell_type": "markdown",
   "metadata": {},
   "source": [
    "The built graph is as follows:\n",
    "\n",
    "<img src=\"resources/graph.PNG\" alt=\"drawing\" width=\"500\" align=\"left\"/>"
   ]
  },
  {
   "cell_type": "markdown",
   "metadata": {},
   "source": [
    "Graph execution may have some advantages. With your operations represented as a platform-independent graph, computation like differentiation will be optimized and automated. Moreover, you can deploy the platform-independent graph on python-free server and various kinds of devices, such as smartphones.\n",
    "\n",
    "In tensorflow 2, the power of graph is reversed by tf.function, which allows you to transform a subset of Python syntax into portable, high-performance TensorFlow graphs."
   ]
  },
  {
   "cell_type": "code",
   "execution_count": 10,
   "metadata": {},
   "outputs": [],
   "source": [
    "@tf.function\n",
    "def add_or_subtract(cond_v):\n",
    "    if cond_v > 8:\n",
    "        return tf.add([1, 2], [1, 2])\n",
    "    else:\n",
    "        return tf.subtract([1, 2], [1, 2])"
   ]
  },
  {
   "cell_type": "code",
   "execution_count": 11,
   "metadata": {},
   "outputs": [
    {
     "name": "stdout",
     "output_type": "stream",
     "text": [
      "tf.Tensor([2 4], shape=(2,), dtype=int32)\n",
      "tf.Tensor([0 0], shape=(2,), dtype=int32)\n"
     ]
    }
   ],
   "source": [
    "print(add_or_subtract(tf.constant(9)))\n",
    "print(add_or_subtract(tf.constant(7)))"
   ]
  },
  {
   "cell_type": "code",
   "execution_count": null,
   "metadata": {},
   "outputs": [],
   "source": []
  }
 ],
 "metadata": {
  "kernelspec": {
   "display_name": "Python 3",
   "language": "python",
   "name": "python3"
  },
  "language_info": {
   "codemirror_mode": {
    "name": "ipython",
    "version": 3
   },
   "file_extension": ".py",
   "mimetype": "text/x-python",
   "name": "python",
   "nbconvert_exporter": "python",
   "pygments_lexer": "ipython3",
   "version": "3.7.4"
  }
 },
 "nbformat": 4,
 "nbformat_minor": 2
}
